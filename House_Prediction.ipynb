{
  "nbformat": 4,
  "nbformat_minor": 0,
  "metadata": {
    "colab": {
      "provenance": [],
      "authorship_tag": "ABX9TyM1N3FaeeVuJ0ErMLN53gDB",
      "include_colab_link": true
    },
    "kernelspec": {
      "name": "python3",
      "display_name": "Python 3"
    },
    "language_info": {
      "name": "python"
    }
  },
  "cells": [
    {
      "cell_type": "markdown",
      "metadata": {
        "id": "view-in-github",
        "colab_type": "text"
      },
      "source": [
        "<a href=\"https://colab.research.google.com/github/abdulhadikhadim/number_guessing/blob/main/House_Prediction.ipynb\" target=\"_parent\"><img src=\"https://colab.research.google.com/assets/colab-badge.svg\" alt=\"Open In Colab\"/></a>"
      ]
    },
    {
      "cell_type": "code",
      "execution_count": 1,
      "metadata": {
        "colab": {
          "base_uri": "https://localhost:8080/"
        },
        "id": "cC9MU7ykKLAC",
        "outputId": "192477b6-ea8c-4b3a-9969-f25701806e14"
      },
      "outputs": [
        {
          "output_type": "stream",
          "name": "stdout",
          "text": [
            "   2104  3  399900\n",
            "0  1600  3  329900\n",
            "1  2400  3  369000\n",
            "2  1416  2  232000\n",
            "3  3000  4  539900\n",
            "4  1985  4  299900\n"
          ]
        }
      ],
      "source": [
        "import pandas as pd\n",
        "url = 'https://raw.githubusercontent.com/Tan-Moy/medium_articles/master/art2_multivariate_linear_regression/home.txt'\n",
        "\n",
        "data = pd.read_csv(url)\n",
        "\n",
        "print(data.head())"
      ]
    },
    {
      "cell_type": "code",
      "source": [
        "import numpy as np\n",
        "from sklearn.model_selection import train_test_split\n",
        "from sklearn.metrics import mean_squared_error\n",
        "from sklearn.preprocessing import StandardScaler\n",
        "import io\n",
        "import requests\n",
        "\n",
        "\n",
        "\n",
        "# Assuming the target column is the last column\n",
        "features = data.iloc[:, :-1].values\n",
        "target = data.iloc[:, -1].values\n",
        "\n",
        "# Normalize the data\n",
        "scaler = StandardScaler()\n",
        "features = scaler.fit_transform(features)\n",
        "\n",
        "X_train, X_test, y_train, y_test = train_test_split(features, target, test_size=0.2, random_state=42)\n",
        "\n",
        "# Initialize model parameters and hyperparameters\n",
        "learning_rate = 0.01\n",
        "num_epochs = 500\n",
        "num_features = X_train.shape[1]\n",
        "weights = np.zeros(num_features)  # Initialize weights to zeros\n",
        "bias = 0  # Initialize bias to zero\n",
        "\n",
        "# Batch gradient descent to optimize the model\n",
        "for epoch in range(num_epochs):\n",
        "    # Calculate predictions\n",
        "    y_pred = np.dot(X_train, weights) + bias\n",
        "\n",
        "    # Calculate the gradients\n",
        "    gradient_weights = (1 / len(X_train)) * np.dot(X_train.T, (y_pred - y_train))\n",
        "    gradient_bias = (1 / len(X_train)) * np.sum(y_pred - y_train)\n",
        "\n",
        "    # Update weights and bias\n",
        "    weights -= learning_rate * gradient_weights\n",
        "    bias -= learning_rate * gradient_bias\n",
        "\n",
        "    # Calculate and print the mean squared error (MSE) for monitoring convergence\n",
        "    mse = mean_squared_error(y_train, y_pred)\n",
        "    if epoch % 100 == 0:\n",
        "        print(f'Epoch {epoch}: MSE = {mse}')\n",
        "\n",
        "# Make predictions on the test data\n",
        "y_test_pred = np.dot(X_test, weights) + bias\n",
        "\n",
        "# Print the optimized parameters\n",
        "print(\"Optimized weights:\", weights)\n",
        "print(\"Optimized bias:\", bias)\n",
        "\n",
        "# Evaluate the model on the test data\n",
        "test_mse = mean_squared_error(y_test, y_test_pred)\n",
        "print(\"Mean Squared Error on Test Data:\", test_mse)\n"
      ],
      "metadata": {
        "colab": {
          "base_uri": "https://localhost:8080/"
        },
        "id": "sIqqbsihKX5F",
        "outputId": "cc7b4b43-ed38-4eef-a57a-a7bbb11235c0"
      },
      "execution_count": 2,
      "outputs": [
        {
          "output_type": "stream",
          "name": "stdout",
          "text": [
            "Epoch 0: MSE = 118407880889.08333\n",
            "Epoch 100: MSE = 20652557838.39295\n",
            "Epoch 200: MSE = 6133269402.146302\n",
            "Epoch 300: MSE = 3893936487.7448645\n",
            "Epoch 400: MSE = 3524121439.430524\n",
            "Optimized weights: [101631.4555676    2749.94021298]\n",
            "Optimized bias: 330166.7226309617\n",
            "Mean Squared Error on Test Data: 7257631210.29971\n"
          ]
        }
      ]
    }
  ]
}